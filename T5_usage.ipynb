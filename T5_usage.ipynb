{
  "nbformat": 4,
  "nbformat_minor": 0,
  "metadata": {
    "colab": {
      "provenance": []
    },
    "kernelspec": {
      "name": "python3",
      "display_name": "Python 3"
    },
    "language_info": {
      "name": "python"
    },
    "widgets": {
      "application/vnd.jupyter.widget-state+json": {
        "a6324a8a2c644389a4d9912976d9ef82": {
          "model_module": "@jupyter-widgets/controls",
          "model_name": "HBoxModel",
          "model_module_version": "1.5.0",
          "state": {
            "_dom_classes": [],
            "_model_module": "@jupyter-widgets/controls",
            "_model_module_version": "1.5.0",
            "_model_name": "HBoxModel",
            "_view_count": null,
            "_view_module": "@jupyter-widgets/controls",
            "_view_module_version": "1.5.0",
            "_view_name": "HBoxView",
            "box_style": "",
            "children": [
              "IPY_MODEL_963b90da4bfe4c7b8d4df9a46cc372d6",
              "IPY_MODEL_2bcd4902c2de4778b49e8b30dc724cb6",
              "IPY_MODEL_f134b4d3fb734074b95a643d22ad3e61"
            ],
            "layout": "IPY_MODEL_f6fb932da2aa477e9d556240bc7e97aa"
          }
        },
        "963b90da4bfe4c7b8d4df9a46cc372d6": {
          "model_module": "@jupyter-widgets/controls",
          "model_name": "HTMLModel",
          "model_module_version": "1.5.0",
          "state": {
            "_dom_classes": [],
            "_model_module": "@jupyter-widgets/controls",
            "_model_module_version": "1.5.0",
            "_model_name": "HTMLModel",
            "_view_count": null,
            "_view_module": "@jupyter-widgets/controls",
            "_view_module_version": "1.5.0",
            "_view_name": "HTMLView",
            "description": "",
            "description_tooltip": null,
            "layout": "IPY_MODEL_b67ab89dbcc241de881223270bdaddf3",
            "placeholder": "​",
            "style": "IPY_MODEL_ec4fbb22298b41adad6878b20d9cf28b",
            "value": "spiece.model: 100%"
          }
        },
        "2bcd4902c2de4778b49e8b30dc724cb6": {
          "model_module": "@jupyter-widgets/controls",
          "model_name": "FloatProgressModel",
          "model_module_version": "1.5.0",
          "state": {
            "_dom_classes": [],
            "_model_module": "@jupyter-widgets/controls",
            "_model_module_version": "1.5.0",
            "_model_name": "FloatProgressModel",
            "_view_count": null,
            "_view_module": "@jupyter-widgets/controls",
            "_view_module_version": "1.5.0",
            "_view_name": "ProgressView",
            "bar_style": "success",
            "description": "",
            "description_tooltip": null,
            "layout": "IPY_MODEL_76fe193789284ba99fa3ccc5a14691f4",
            "max": 791656,
            "min": 0,
            "orientation": "horizontal",
            "style": "IPY_MODEL_906cb3abaa8644e0a813b12160dd75fd",
            "value": 791656
          }
        },
        "f134b4d3fb734074b95a643d22ad3e61": {
          "model_module": "@jupyter-widgets/controls",
          "model_name": "HTMLModel",
          "model_module_version": "1.5.0",
          "state": {
            "_dom_classes": [],
            "_model_module": "@jupyter-widgets/controls",
            "_model_module_version": "1.5.0",
            "_model_name": "HTMLModel",
            "_view_count": null,
            "_view_module": "@jupyter-widgets/controls",
            "_view_module_version": "1.5.0",
            "_view_name": "HTMLView",
            "description": "",
            "description_tooltip": null,
            "layout": "IPY_MODEL_9573a927a9d4428cb0c0e478fc9c0672",
            "placeholder": "​",
            "style": "IPY_MODEL_bf7fba225b5044ebb992e37f6bc24da7",
            "value": " 792k/792k [00:00&lt;00:00, 7.15MB/s]"
          }
        },
        "f6fb932da2aa477e9d556240bc7e97aa": {
          "model_module": "@jupyter-widgets/base",
          "model_name": "LayoutModel",
          "model_module_version": "1.2.0",
          "state": {
            "_model_module": "@jupyter-widgets/base",
            "_model_module_version": "1.2.0",
            "_model_name": "LayoutModel",
            "_view_count": null,
            "_view_module": "@jupyter-widgets/base",
            "_view_module_version": "1.2.0",
            "_view_name": "LayoutView",
            "align_content": null,
            "align_items": null,
            "align_self": null,
            "border": null,
            "bottom": null,
            "display": null,
            "flex": null,
            "flex_flow": null,
            "grid_area": null,
            "grid_auto_columns": null,
            "grid_auto_flow": null,
            "grid_auto_rows": null,
            "grid_column": null,
            "grid_gap": null,
            "grid_row": null,
            "grid_template_areas": null,
            "grid_template_columns": null,
            "grid_template_rows": null,
            "height": null,
            "justify_content": null,
            "justify_items": null,
            "left": null,
            "margin": null,
            "max_height": null,
            "max_width": null,
            "min_height": null,
            "min_width": null,
            "object_fit": null,
            "object_position": null,
            "order": null,
            "overflow": null,
            "overflow_x": null,
            "overflow_y": null,
            "padding": null,
            "right": null,
            "top": null,
            "visibility": null,
            "width": null
          }
        },
        "b67ab89dbcc241de881223270bdaddf3": {
          "model_module": "@jupyter-widgets/base",
          "model_name": "LayoutModel",
          "model_module_version": "1.2.0",
          "state": {
            "_model_module": "@jupyter-widgets/base",
            "_model_module_version": "1.2.0",
            "_model_name": "LayoutModel",
            "_view_count": null,
            "_view_module": "@jupyter-widgets/base",
            "_view_module_version": "1.2.0",
            "_view_name": "LayoutView",
            "align_content": null,
            "align_items": null,
            "align_self": null,
            "border": null,
            "bottom": null,
            "display": null,
            "flex": null,
            "flex_flow": null,
            "grid_area": null,
            "grid_auto_columns": null,
            "grid_auto_flow": null,
            "grid_auto_rows": null,
            "grid_column": null,
            "grid_gap": null,
            "grid_row": null,
            "grid_template_areas": null,
            "grid_template_columns": null,
            "grid_template_rows": null,
            "height": null,
            "justify_content": null,
            "justify_items": null,
            "left": null,
            "margin": null,
            "max_height": null,
            "max_width": null,
            "min_height": null,
            "min_width": null,
            "object_fit": null,
            "object_position": null,
            "order": null,
            "overflow": null,
            "overflow_x": null,
            "overflow_y": null,
            "padding": null,
            "right": null,
            "top": null,
            "visibility": null,
            "width": null
          }
        },
        "ec4fbb22298b41adad6878b20d9cf28b": {
          "model_module": "@jupyter-widgets/controls",
          "model_name": "DescriptionStyleModel",
          "model_module_version": "1.5.0",
          "state": {
            "_model_module": "@jupyter-widgets/controls",
            "_model_module_version": "1.5.0",
            "_model_name": "DescriptionStyleModel",
            "_view_count": null,
            "_view_module": "@jupyter-widgets/base",
            "_view_module_version": "1.2.0",
            "_view_name": "StyleView",
            "description_width": ""
          }
        },
        "76fe193789284ba99fa3ccc5a14691f4": {
          "model_module": "@jupyter-widgets/base",
          "model_name": "LayoutModel",
          "model_module_version": "1.2.0",
          "state": {
            "_model_module": "@jupyter-widgets/base",
            "_model_module_version": "1.2.0",
            "_model_name": "LayoutModel",
            "_view_count": null,
            "_view_module": "@jupyter-widgets/base",
            "_view_module_version": "1.2.0",
            "_view_name": "LayoutView",
            "align_content": null,
            "align_items": null,
            "align_self": null,
            "border": null,
            "bottom": null,
            "display": null,
            "flex": null,
            "flex_flow": null,
            "grid_area": null,
            "grid_auto_columns": null,
            "grid_auto_flow": null,
            "grid_auto_rows": null,
            "grid_column": null,
            "grid_gap": null,
            "grid_row": null,
            "grid_template_areas": null,
            "grid_template_columns": null,
            "grid_template_rows": null,
            "height": null,
            "justify_content": null,
            "justify_items": null,
            "left": null,
            "margin": null,
            "max_height": null,
            "max_width": null,
            "min_height": null,
            "min_width": null,
            "object_fit": null,
            "object_position": null,
            "order": null,
            "overflow": null,
            "overflow_x": null,
            "overflow_y": null,
            "padding": null,
            "right": null,
            "top": null,
            "visibility": null,
            "width": null
          }
        },
        "906cb3abaa8644e0a813b12160dd75fd": {
          "model_module": "@jupyter-widgets/controls",
          "model_name": "ProgressStyleModel",
          "model_module_version": "1.5.0",
          "state": {
            "_model_module": "@jupyter-widgets/controls",
            "_model_module_version": "1.5.0",
            "_model_name": "ProgressStyleModel",
            "_view_count": null,
            "_view_module": "@jupyter-widgets/base",
            "_view_module_version": "1.2.0",
            "_view_name": "StyleView",
            "bar_color": null,
            "description_width": ""
          }
        },
        "9573a927a9d4428cb0c0e478fc9c0672": {
          "model_module": "@jupyter-widgets/base",
          "model_name": "LayoutModel",
          "model_module_version": "1.2.0",
          "state": {
            "_model_module": "@jupyter-widgets/base",
            "_model_module_version": "1.2.0",
            "_model_name": "LayoutModel",
            "_view_count": null,
            "_view_module": "@jupyter-widgets/base",
            "_view_module_version": "1.2.0",
            "_view_name": "LayoutView",
            "align_content": null,
            "align_items": null,
            "align_self": null,
            "border": null,
            "bottom": null,
            "display": null,
            "flex": null,
            "flex_flow": null,
            "grid_area": null,
            "grid_auto_columns": null,
            "grid_auto_flow": null,
            "grid_auto_rows": null,
            "grid_column": null,
            "grid_gap": null,
            "grid_row": null,
            "grid_template_areas": null,
            "grid_template_columns": null,
            "grid_template_rows": null,
            "height": null,
            "justify_content": null,
            "justify_items": null,
            "left": null,
            "margin": null,
            "max_height": null,
            "max_width": null,
            "min_height": null,
            "min_width": null,
            "object_fit": null,
            "object_position": null,
            "order": null,
            "overflow": null,
            "overflow_x": null,
            "overflow_y": null,
            "padding": null,
            "right": null,
            "top": null,
            "visibility": null,
            "width": null
          }
        },
        "bf7fba225b5044ebb992e37f6bc24da7": {
          "model_module": "@jupyter-widgets/controls",
          "model_name": "DescriptionStyleModel",
          "model_module_version": "1.5.0",
          "state": {
            "_model_module": "@jupyter-widgets/controls",
            "_model_module_version": "1.5.0",
            "_model_name": "DescriptionStyleModel",
            "_view_count": null,
            "_view_module": "@jupyter-widgets/base",
            "_view_module_version": "1.2.0",
            "_view_name": "StyleView",
            "description_width": ""
          }
        },
        "83fae06a710d42278ec243ae0ae7d0cb": {
          "model_module": "@jupyter-widgets/controls",
          "model_name": "HBoxModel",
          "model_module_version": "1.5.0",
          "state": {
            "_dom_classes": [],
            "_model_module": "@jupyter-widgets/controls",
            "_model_module_version": "1.5.0",
            "_model_name": "HBoxModel",
            "_view_count": null,
            "_view_module": "@jupyter-widgets/controls",
            "_view_module_version": "1.5.0",
            "_view_name": "HBoxView",
            "box_style": "",
            "children": [
              "IPY_MODEL_6d18857af66c4a9db263a1fee4c42313",
              "IPY_MODEL_9ff41b3c805345cab7b89ee12ffb68b0",
              "IPY_MODEL_df115119883941e09918bca87bba045c"
            ],
            "layout": "IPY_MODEL_9cffd98dfa77453990af4eda133c642c"
          }
        },
        "6d18857af66c4a9db263a1fee4c42313": {
          "model_module": "@jupyter-widgets/controls",
          "model_name": "HTMLModel",
          "model_module_version": "1.5.0",
          "state": {
            "_dom_classes": [],
            "_model_module": "@jupyter-widgets/controls",
            "_model_module_version": "1.5.0",
            "_model_name": "HTMLModel",
            "_view_count": null,
            "_view_module": "@jupyter-widgets/controls",
            "_view_module_version": "1.5.0",
            "_view_name": "HTMLView",
            "description": "",
            "description_tooltip": null,
            "layout": "IPY_MODEL_d639db9ee6f84e67944b1a06766c4cd8",
            "placeholder": "​",
            "style": "IPY_MODEL_76e8cfbeb9b0478687c52dcca5e999f8",
            "value": "tokenizer.json: 100%"
          }
        },
        "9ff41b3c805345cab7b89ee12ffb68b0": {
          "model_module": "@jupyter-widgets/controls",
          "model_name": "FloatProgressModel",
          "model_module_version": "1.5.0",
          "state": {
            "_dom_classes": [],
            "_model_module": "@jupyter-widgets/controls",
            "_model_module_version": "1.5.0",
            "_model_name": "FloatProgressModel",
            "_view_count": null,
            "_view_module": "@jupyter-widgets/controls",
            "_view_module_version": "1.5.0",
            "_view_name": "ProgressView",
            "bar_style": "success",
            "description": "",
            "description_tooltip": null,
            "layout": "IPY_MODEL_f7ad00ac336e4a07b3558581ba5754e0",
            "max": 1389353,
            "min": 0,
            "orientation": "horizontal",
            "style": "IPY_MODEL_8a701af9bb3e43068316f2b9c16edd0e",
            "value": 1389353
          }
        },
        "df115119883941e09918bca87bba045c": {
          "model_module": "@jupyter-widgets/controls",
          "model_name": "HTMLModel",
          "model_module_version": "1.5.0",
          "state": {
            "_dom_classes": [],
            "_model_module": "@jupyter-widgets/controls",
            "_model_module_version": "1.5.0",
            "_model_name": "HTMLModel",
            "_view_count": null,
            "_view_module": "@jupyter-widgets/controls",
            "_view_module_version": "1.5.0",
            "_view_name": "HTMLView",
            "description": "",
            "description_tooltip": null,
            "layout": "IPY_MODEL_71c6d2c457d04fe29e95135025980fb5",
            "placeholder": "​",
            "style": "IPY_MODEL_51d684ec04bc4eafb98611a67fad7e30",
            "value": " 1.39M/1.39M [00:00&lt;00:00, 16.8MB/s]"
          }
        },
        "9cffd98dfa77453990af4eda133c642c": {
          "model_module": "@jupyter-widgets/base",
          "model_name": "LayoutModel",
          "model_module_version": "1.2.0",
          "state": {
            "_model_module": "@jupyter-widgets/base",
            "_model_module_version": "1.2.0",
            "_model_name": "LayoutModel",
            "_view_count": null,
            "_view_module": "@jupyter-widgets/base",
            "_view_module_version": "1.2.0",
            "_view_name": "LayoutView",
            "align_content": null,
            "align_items": null,
            "align_self": null,
            "border": null,
            "bottom": null,
            "display": null,
            "flex": null,
            "flex_flow": null,
            "grid_area": null,
            "grid_auto_columns": null,
            "grid_auto_flow": null,
            "grid_auto_rows": null,
            "grid_column": null,
            "grid_gap": null,
            "grid_row": null,
            "grid_template_areas": null,
            "grid_template_columns": null,
            "grid_template_rows": null,
            "height": null,
            "justify_content": null,
            "justify_items": null,
            "left": null,
            "margin": null,
            "max_height": null,
            "max_width": null,
            "min_height": null,
            "min_width": null,
            "object_fit": null,
            "object_position": null,
            "order": null,
            "overflow": null,
            "overflow_x": null,
            "overflow_y": null,
            "padding": null,
            "right": null,
            "top": null,
            "visibility": null,
            "width": null
          }
        },
        "d639db9ee6f84e67944b1a06766c4cd8": {
          "model_module": "@jupyter-widgets/base",
          "model_name": "LayoutModel",
          "model_module_version": "1.2.0",
          "state": {
            "_model_module": "@jupyter-widgets/base",
            "_model_module_version": "1.2.0",
            "_model_name": "LayoutModel",
            "_view_count": null,
            "_view_module": "@jupyter-widgets/base",
            "_view_module_version": "1.2.0",
            "_view_name": "LayoutView",
            "align_content": null,
            "align_items": null,
            "align_self": null,
            "border": null,
            "bottom": null,
            "display": null,
            "flex": null,
            "flex_flow": null,
            "grid_area": null,
            "grid_auto_columns": null,
            "grid_auto_flow": null,
            "grid_auto_rows": null,
            "grid_column": null,
            "grid_gap": null,
            "grid_row": null,
            "grid_template_areas": null,
            "grid_template_columns": null,
            "grid_template_rows": null,
            "height": null,
            "justify_content": null,
            "justify_items": null,
            "left": null,
            "margin": null,
            "max_height": null,
            "max_width": null,
            "min_height": null,
            "min_width": null,
            "object_fit": null,
            "object_position": null,
            "order": null,
            "overflow": null,
            "overflow_x": null,
            "overflow_y": null,
            "padding": null,
            "right": null,
            "top": null,
            "visibility": null,
            "width": null
          }
        },
        "76e8cfbeb9b0478687c52dcca5e999f8": {
          "model_module": "@jupyter-widgets/controls",
          "model_name": "DescriptionStyleModel",
          "model_module_version": "1.5.0",
          "state": {
            "_model_module": "@jupyter-widgets/controls",
            "_model_module_version": "1.5.0",
            "_model_name": "DescriptionStyleModel",
            "_view_count": null,
            "_view_module": "@jupyter-widgets/base",
            "_view_module_version": "1.2.0",
            "_view_name": "StyleView",
            "description_width": ""
          }
        },
        "f7ad00ac336e4a07b3558581ba5754e0": {
          "model_module": "@jupyter-widgets/base",
          "model_name": "LayoutModel",
          "model_module_version": "1.2.0",
          "state": {
            "_model_module": "@jupyter-widgets/base",
            "_model_module_version": "1.2.0",
            "_model_name": "LayoutModel",
            "_view_count": null,
            "_view_module": "@jupyter-widgets/base",
            "_view_module_version": "1.2.0",
            "_view_name": "LayoutView",
            "align_content": null,
            "align_items": null,
            "align_self": null,
            "border": null,
            "bottom": null,
            "display": null,
            "flex": null,
            "flex_flow": null,
            "grid_area": null,
            "grid_auto_columns": null,
            "grid_auto_flow": null,
            "grid_auto_rows": null,
            "grid_column": null,
            "grid_gap": null,
            "grid_row": null,
            "grid_template_areas": null,
            "grid_template_columns": null,
            "grid_template_rows": null,
            "height": null,
            "justify_content": null,
            "justify_items": null,
            "left": null,
            "margin": null,
            "max_height": null,
            "max_width": null,
            "min_height": null,
            "min_width": null,
            "object_fit": null,
            "object_position": null,
            "order": null,
            "overflow": null,
            "overflow_x": null,
            "overflow_y": null,
            "padding": null,
            "right": null,
            "top": null,
            "visibility": null,
            "width": null
          }
        },
        "8a701af9bb3e43068316f2b9c16edd0e": {
          "model_module": "@jupyter-widgets/controls",
          "model_name": "ProgressStyleModel",
          "model_module_version": "1.5.0",
          "state": {
            "_model_module": "@jupyter-widgets/controls",
            "_model_module_version": "1.5.0",
            "_model_name": "ProgressStyleModel",
            "_view_count": null,
            "_view_module": "@jupyter-widgets/base",
            "_view_module_version": "1.2.0",
            "_view_name": "StyleView",
            "bar_color": null,
            "description_width": ""
          }
        },
        "71c6d2c457d04fe29e95135025980fb5": {
          "model_module": "@jupyter-widgets/base",
          "model_name": "LayoutModel",
          "model_module_version": "1.2.0",
          "state": {
            "_model_module": "@jupyter-widgets/base",
            "_model_module_version": "1.2.0",
            "_model_name": "LayoutModel",
            "_view_count": null,
            "_view_module": "@jupyter-widgets/base",
            "_view_module_version": "1.2.0",
            "_view_name": "LayoutView",
            "align_content": null,
            "align_items": null,
            "align_self": null,
            "border": null,
            "bottom": null,
            "display": null,
            "flex": null,
            "flex_flow": null,
            "grid_area": null,
            "grid_auto_columns": null,
            "grid_auto_flow": null,
            "grid_auto_rows": null,
            "grid_column": null,
            "grid_gap": null,
            "grid_row": null,
            "grid_template_areas": null,
            "grid_template_columns": null,
            "grid_template_rows": null,
            "height": null,
            "justify_content": null,
            "justify_items": null,
            "left": null,
            "margin": null,
            "max_height": null,
            "max_width": null,
            "min_height": null,
            "min_width": null,
            "object_fit": null,
            "object_position": null,
            "order": null,
            "overflow": null,
            "overflow_x": null,
            "overflow_y": null,
            "padding": null,
            "right": null,
            "top": null,
            "visibility": null,
            "width": null
          }
        },
        "51d684ec04bc4eafb98611a67fad7e30": {
          "model_module": "@jupyter-widgets/controls",
          "model_name": "DescriptionStyleModel",
          "model_module_version": "1.5.0",
          "state": {
            "_model_module": "@jupyter-widgets/controls",
            "_model_module_version": "1.5.0",
            "_model_name": "DescriptionStyleModel",
            "_view_count": null,
            "_view_module": "@jupyter-widgets/base",
            "_view_module_version": "1.2.0",
            "_view_name": "StyleView",
            "description_width": ""
          }
        },
        "dc97b4700edb4495bfdc57132925230b": {
          "model_module": "@jupyter-widgets/controls",
          "model_name": "HBoxModel",
          "model_module_version": "1.5.0",
          "state": {
            "_dom_classes": [],
            "_model_module": "@jupyter-widgets/controls",
            "_model_module_version": "1.5.0",
            "_model_name": "HBoxModel",
            "_view_count": null,
            "_view_module": "@jupyter-widgets/controls",
            "_view_module_version": "1.5.0",
            "_view_name": "HBoxView",
            "box_style": "",
            "children": [
              "IPY_MODEL_b92e3473125340d0bf4d7e75e2c72e99",
              "IPY_MODEL_0ac5b8fa8a4b4effb69f898d24b4146a",
              "IPY_MODEL_bbab0f994c9641d2ab4c1e56f237b0d2"
            ],
            "layout": "IPY_MODEL_418ead16478d4e2cb58421d78124b510"
          }
        },
        "b92e3473125340d0bf4d7e75e2c72e99": {
          "model_module": "@jupyter-widgets/controls",
          "model_name": "HTMLModel",
          "model_module_version": "1.5.0",
          "state": {
            "_dom_classes": [],
            "_model_module": "@jupyter-widgets/controls",
            "_model_module_version": "1.5.0",
            "_model_name": "HTMLModel",
            "_view_count": null,
            "_view_module": "@jupyter-widgets/controls",
            "_view_module_version": "1.5.0",
            "_view_name": "HTMLView",
            "description": "",
            "description_tooltip": null,
            "layout": "IPY_MODEL_2606a2cdfaf14d4eb2dc43962f914277",
            "placeholder": "​",
            "style": "IPY_MODEL_ee0fd7c391fc41f8b7d67d8808ca8846",
            "value": "config.json: 100%"
          }
        },
        "0ac5b8fa8a4b4effb69f898d24b4146a": {
          "model_module": "@jupyter-widgets/controls",
          "model_name": "FloatProgressModel",
          "model_module_version": "1.5.0",
          "state": {
            "_dom_classes": [],
            "_model_module": "@jupyter-widgets/controls",
            "_model_module_version": "1.5.0",
            "_model_name": "FloatProgressModel",
            "_view_count": null,
            "_view_module": "@jupyter-widgets/controls",
            "_view_module_version": "1.5.0",
            "_view_name": "ProgressView",
            "bar_style": "success",
            "description": "",
            "description_tooltip": null,
            "layout": "IPY_MODEL_39886ec7470e4dc2aabc4b90758d151d",
            "max": 1208,
            "min": 0,
            "orientation": "horizontal",
            "style": "IPY_MODEL_aa0c6e5bee1f4c2187c744a914995a54",
            "value": 1208
          }
        },
        "bbab0f994c9641d2ab4c1e56f237b0d2": {
          "model_module": "@jupyter-widgets/controls",
          "model_name": "HTMLModel",
          "model_module_version": "1.5.0",
          "state": {
            "_dom_classes": [],
            "_model_module": "@jupyter-widgets/controls",
            "_model_module_version": "1.5.0",
            "_model_name": "HTMLModel",
            "_view_count": null,
            "_view_module": "@jupyter-widgets/controls",
            "_view_module_version": "1.5.0",
            "_view_name": "HTMLView",
            "description": "",
            "description_tooltip": null,
            "layout": "IPY_MODEL_d4a13f78635f40bab5dbdc10cfa21abd",
            "placeholder": "​",
            "style": "IPY_MODEL_7c12bad796be4e0da3a71f6178a8de3f",
            "value": " 1.21k/1.21k [00:00&lt;00:00, 43.9kB/s]"
          }
        },
        "418ead16478d4e2cb58421d78124b510": {
          "model_module": "@jupyter-widgets/base",
          "model_name": "LayoutModel",
          "model_module_version": "1.2.0",
          "state": {
            "_model_module": "@jupyter-widgets/base",
            "_model_module_version": "1.2.0",
            "_model_name": "LayoutModel",
            "_view_count": null,
            "_view_module": "@jupyter-widgets/base",
            "_view_module_version": "1.2.0",
            "_view_name": "LayoutView",
            "align_content": null,
            "align_items": null,
            "align_self": null,
            "border": null,
            "bottom": null,
            "display": null,
            "flex": null,
            "flex_flow": null,
            "grid_area": null,
            "grid_auto_columns": null,
            "grid_auto_flow": null,
            "grid_auto_rows": null,
            "grid_column": null,
            "grid_gap": null,
            "grid_row": null,
            "grid_template_areas": null,
            "grid_template_columns": null,
            "grid_template_rows": null,
            "height": null,
            "justify_content": null,
            "justify_items": null,
            "left": null,
            "margin": null,
            "max_height": null,
            "max_width": null,
            "min_height": null,
            "min_width": null,
            "object_fit": null,
            "object_position": null,
            "order": null,
            "overflow": null,
            "overflow_x": null,
            "overflow_y": null,
            "padding": null,
            "right": null,
            "top": null,
            "visibility": null,
            "width": null
          }
        },
        "2606a2cdfaf14d4eb2dc43962f914277": {
          "model_module": "@jupyter-widgets/base",
          "model_name": "LayoutModel",
          "model_module_version": "1.2.0",
          "state": {
            "_model_module": "@jupyter-widgets/base",
            "_model_module_version": "1.2.0",
            "_model_name": "LayoutModel",
            "_view_count": null,
            "_view_module": "@jupyter-widgets/base",
            "_view_module_version": "1.2.0",
            "_view_name": "LayoutView",
            "align_content": null,
            "align_items": null,
            "align_self": null,
            "border": null,
            "bottom": null,
            "display": null,
            "flex": null,
            "flex_flow": null,
            "grid_area": null,
            "grid_auto_columns": null,
            "grid_auto_flow": null,
            "grid_auto_rows": null,
            "grid_column": null,
            "grid_gap": null,
            "grid_row": null,
            "grid_template_areas": null,
            "grid_template_columns": null,
            "grid_template_rows": null,
            "height": null,
            "justify_content": null,
            "justify_items": null,
            "left": null,
            "margin": null,
            "max_height": null,
            "max_width": null,
            "min_height": null,
            "min_width": null,
            "object_fit": null,
            "object_position": null,
            "order": null,
            "overflow": null,
            "overflow_x": null,
            "overflow_y": null,
            "padding": null,
            "right": null,
            "top": null,
            "visibility": null,
            "width": null
          }
        },
        "ee0fd7c391fc41f8b7d67d8808ca8846": {
          "model_module": "@jupyter-widgets/controls",
          "model_name": "DescriptionStyleModel",
          "model_module_version": "1.5.0",
          "state": {
            "_model_module": "@jupyter-widgets/controls",
            "_model_module_version": "1.5.0",
            "_model_name": "DescriptionStyleModel",
            "_view_count": null,
            "_view_module": "@jupyter-widgets/base",
            "_view_module_version": "1.2.0",
            "_view_name": "StyleView",
            "description_width": ""
          }
        },
        "39886ec7470e4dc2aabc4b90758d151d": {
          "model_module": "@jupyter-widgets/base",
          "model_name": "LayoutModel",
          "model_module_version": "1.2.0",
          "state": {
            "_model_module": "@jupyter-widgets/base",
            "_model_module_version": "1.2.0",
            "_model_name": "LayoutModel",
            "_view_count": null,
            "_view_module": "@jupyter-widgets/base",
            "_view_module_version": "1.2.0",
            "_view_name": "LayoutView",
            "align_content": null,
            "align_items": null,
            "align_self": null,
            "border": null,
            "bottom": null,
            "display": null,
            "flex": null,
            "flex_flow": null,
            "grid_area": null,
            "grid_auto_columns": null,
            "grid_auto_flow": null,
            "grid_auto_rows": null,
            "grid_column": null,
            "grid_gap": null,
            "grid_row": null,
            "grid_template_areas": null,
            "grid_template_columns": null,
            "grid_template_rows": null,
            "height": null,
            "justify_content": null,
            "justify_items": null,
            "left": null,
            "margin": null,
            "max_height": null,
            "max_width": null,
            "min_height": null,
            "min_width": null,
            "object_fit": null,
            "object_position": null,
            "order": null,
            "overflow": null,
            "overflow_x": null,
            "overflow_y": null,
            "padding": null,
            "right": null,
            "top": null,
            "visibility": null,
            "width": null
          }
        },
        "aa0c6e5bee1f4c2187c744a914995a54": {
          "model_module": "@jupyter-widgets/controls",
          "model_name": "ProgressStyleModel",
          "model_module_version": "1.5.0",
          "state": {
            "_model_module": "@jupyter-widgets/controls",
            "_model_module_version": "1.5.0",
            "_model_name": "ProgressStyleModel",
            "_view_count": null,
            "_view_module": "@jupyter-widgets/base",
            "_view_module_version": "1.2.0",
            "_view_name": "StyleView",
            "bar_color": null,
            "description_width": ""
          }
        },
        "d4a13f78635f40bab5dbdc10cfa21abd": {
          "model_module": "@jupyter-widgets/base",
          "model_name": "LayoutModel",
          "model_module_version": "1.2.0",
          "state": {
            "_model_module": "@jupyter-widgets/base",
            "_model_module_version": "1.2.0",
            "_model_name": "LayoutModel",
            "_view_count": null,
            "_view_module": "@jupyter-widgets/base",
            "_view_module_version": "1.2.0",
            "_view_name": "LayoutView",
            "align_content": null,
            "align_items": null,
            "align_self": null,
            "border": null,
            "bottom": null,
            "display": null,
            "flex": null,
            "flex_flow": null,
            "grid_area": null,
            "grid_auto_columns": null,
            "grid_auto_flow": null,
            "grid_auto_rows": null,
            "grid_column": null,
            "grid_gap": null,
            "grid_row": null,
            "grid_template_areas": null,
            "grid_template_columns": null,
            "grid_template_rows": null,
            "height": null,
            "justify_content": null,
            "justify_items": null,
            "left": null,
            "margin": null,
            "max_height": null,
            "max_width": null,
            "min_height": null,
            "min_width": null,
            "object_fit": null,
            "object_position": null,
            "order": null,
            "overflow": null,
            "overflow_x": null,
            "overflow_y": null,
            "padding": null,
            "right": null,
            "top": null,
            "visibility": null,
            "width": null
          }
        },
        "7c12bad796be4e0da3a71f6178a8de3f": {
          "model_module": "@jupyter-widgets/controls",
          "model_name": "DescriptionStyleModel",
          "model_module_version": "1.5.0",
          "state": {
            "_model_module": "@jupyter-widgets/controls",
            "_model_module_version": "1.5.0",
            "_model_name": "DescriptionStyleModel",
            "_view_count": null,
            "_view_module": "@jupyter-widgets/base",
            "_view_module_version": "1.2.0",
            "_view_name": "StyleView",
            "description_width": ""
          }
        },
        "30bc67314ccf4ebcaddeed292556cf04": {
          "model_module": "@jupyter-widgets/controls",
          "model_name": "HBoxModel",
          "model_module_version": "1.5.0",
          "state": {
            "_dom_classes": [],
            "_model_module": "@jupyter-widgets/controls",
            "_model_module_version": "1.5.0",
            "_model_name": "HBoxModel",
            "_view_count": null,
            "_view_module": "@jupyter-widgets/controls",
            "_view_module_version": "1.5.0",
            "_view_name": "HBoxView",
            "box_style": "",
            "children": [
              "IPY_MODEL_4248d80c0669444c8a1e9636858e52ff",
              "IPY_MODEL_13db0fc32def447f98feca0976ec2fcb",
              "IPY_MODEL_3f61149732d14d9781cdb1a25df8cb43"
            ],
            "layout": "IPY_MODEL_650f30fa3c434b9b94113c78e34e58f6"
          }
        },
        "4248d80c0669444c8a1e9636858e52ff": {
          "model_module": "@jupyter-widgets/controls",
          "model_name": "HTMLModel",
          "model_module_version": "1.5.0",
          "state": {
            "_dom_classes": [],
            "_model_module": "@jupyter-widgets/controls",
            "_model_module_version": "1.5.0",
            "_model_name": "HTMLModel",
            "_view_count": null,
            "_view_module": "@jupyter-widgets/controls",
            "_view_module_version": "1.5.0",
            "_view_name": "HTMLView",
            "description": "",
            "description_tooltip": null,
            "layout": "IPY_MODEL_f18dd1640f9d49ce8a85ba430fa29090",
            "placeholder": "​",
            "style": "IPY_MODEL_bf11b4c49bae4f398fb48a8b4ffecf19",
            "value": "model.safetensors: 100%"
          }
        },
        "13db0fc32def447f98feca0976ec2fcb": {
          "model_module": "@jupyter-widgets/controls",
          "model_name": "FloatProgressModel",
          "model_module_version": "1.5.0",
          "state": {
            "_dom_classes": [],
            "_model_module": "@jupyter-widgets/controls",
            "_model_module_version": "1.5.0",
            "_model_name": "FloatProgressModel",
            "_view_count": null,
            "_view_module": "@jupyter-widgets/controls",
            "_view_module_version": "1.5.0",
            "_view_name": "ProgressView",
            "bar_style": "success",
            "description": "",
            "description_tooltip": null,
            "layout": "IPY_MODEL_ba5171bcef7240e38b42ca121119d35d",
            "max": 891646390,
            "min": 0,
            "orientation": "horizontal",
            "style": "IPY_MODEL_bdabb420026942fa95d807880093fd2e",
            "value": 891646390
          }
        },
        "3f61149732d14d9781cdb1a25df8cb43": {
          "model_module": "@jupyter-widgets/controls",
          "model_name": "HTMLModel",
          "model_module_version": "1.5.0",
          "state": {
            "_dom_classes": [],
            "_model_module": "@jupyter-widgets/controls",
            "_model_module_version": "1.5.0",
            "_model_name": "HTMLModel",
            "_view_count": null,
            "_view_module": "@jupyter-widgets/controls",
            "_view_module_version": "1.5.0",
            "_view_name": "HTMLView",
            "description": "",
            "description_tooltip": null,
            "layout": "IPY_MODEL_b717ecbed1204deb8e0df7a0d668ca0a",
            "placeholder": "​",
            "style": "IPY_MODEL_57d27815f2b04b658f3a4f89681a104d",
            "value": " 892M/892M [00:12&lt;00:00, 44.5MB/s]"
          }
        },
        "650f30fa3c434b9b94113c78e34e58f6": {
          "model_module": "@jupyter-widgets/base",
          "model_name": "LayoutModel",
          "model_module_version": "1.2.0",
          "state": {
            "_model_module": "@jupyter-widgets/base",
            "_model_module_version": "1.2.0",
            "_model_name": "LayoutModel",
            "_view_count": null,
            "_view_module": "@jupyter-widgets/base",
            "_view_module_version": "1.2.0",
            "_view_name": "LayoutView",
            "align_content": null,
            "align_items": null,
            "align_self": null,
            "border": null,
            "bottom": null,
            "display": null,
            "flex": null,
            "flex_flow": null,
            "grid_area": null,
            "grid_auto_columns": null,
            "grid_auto_flow": null,
            "grid_auto_rows": null,
            "grid_column": null,
            "grid_gap": null,
            "grid_row": null,
            "grid_template_areas": null,
            "grid_template_columns": null,
            "grid_template_rows": null,
            "height": null,
            "justify_content": null,
            "justify_items": null,
            "left": null,
            "margin": null,
            "max_height": null,
            "max_width": null,
            "min_height": null,
            "min_width": null,
            "object_fit": null,
            "object_position": null,
            "order": null,
            "overflow": null,
            "overflow_x": null,
            "overflow_y": null,
            "padding": null,
            "right": null,
            "top": null,
            "visibility": null,
            "width": null
          }
        },
        "f18dd1640f9d49ce8a85ba430fa29090": {
          "model_module": "@jupyter-widgets/base",
          "model_name": "LayoutModel",
          "model_module_version": "1.2.0",
          "state": {
            "_model_module": "@jupyter-widgets/base",
            "_model_module_version": "1.2.0",
            "_model_name": "LayoutModel",
            "_view_count": null,
            "_view_module": "@jupyter-widgets/base",
            "_view_module_version": "1.2.0",
            "_view_name": "LayoutView",
            "align_content": null,
            "align_items": null,
            "align_self": null,
            "border": null,
            "bottom": null,
            "display": null,
            "flex": null,
            "flex_flow": null,
            "grid_area": null,
            "grid_auto_columns": null,
            "grid_auto_flow": null,
            "grid_auto_rows": null,
            "grid_column": null,
            "grid_gap": null,
            "grid_row": null,
            "grid_template_areas": null,
            "grid_template_columns": null,
            "grid_template_rows": null,
            "height": null,
            "justify_content": null,
            "justify_items": null,
            "left": null,
            "margin": null,
            "max_height": null,
            "max_width": null,
            "min_height": null,
            "min_width": null,
            "object_fit": null,
            "object_position": null,
            "order": null,
            "overflow": null,
            "overflow_x": null,
            "overflow_y": null,
            "padding": null,
            "right": null,
            "top": null,
            "visibility": null,
            "width": null
          }
        },
        "bf11b4c49bae4f398fb48a8b4ffecf19": {
          "model_module": "@jupyter-widgets/controls",
          "model_name": "DescriptionStyleModel",
          "model_module_version": "1.5.0",
          "state": {
            "_model_module": "@jupyter-widgets/controls",
            "_model_module_version": "1.5.0",
            "_model_name": "DescriptionStyleModel",
            "_view_count": null,
            "_view_module": "@jupyter-widgets/base",
            "_view_module_version": "1.2.0",
            "_view_name": "StyleView",
            "description_width": ""
          }
        },
        "ba5171bcef7240e38b42ca121119d35d": {
          "model_module": "@jupyter-widgets/base",
          "model_name": "LayoutModel",
          "model_module_version": "1.2.0",
          "state": {
            "_model_module": "@jupyter-widgets/base",
            "_model_module_version": "1.2.0",
            "_model_name": "LayoutModel",
            "_view_count": null,
            "_view_module": "@jupyter-widgets/base",
            "_view_module_version": "1.2.0",
            "_view_name": "LayoutView",
            "align_content": null,
            "align_items": null,
            "align_self": null,
            "border": null,
            "bottom": null,
            "display": null,
            "flex": null,
            "flex_flow": null,
            "grid_area": null,
            "grid_auto_columns": null,
            "grid_auto_flow": null,
            "grid_auto_rows": null,
            "grid_column": null,
            "grid_gap": null,
            "grid_row": null,
            "grid_template_areas": null,
            "grid_template_columns": null,
            "grid_template_rows": null,
            "height": null,
            "justify_content": null,
            "justify_items": null,
            "left": null,
            "margin": null,
            "max_height": null,
            "max_width": null,
            "min_height": null,
            "min_width": null,
            "object_fit": null,
            "object_position": null,
            "order": null,
            "overflow": null,
            "overflow_x": null,
            "overflow_y": null,
            "padding": null,
            "right": null,
            "top": null,
            "visibility": null,
            "width": null
          }
        },
        "bdabb420026942fa95d807880093fd2e": {
          "model_module": "@jupyter-widgets/controls",
          "model_name": "ProgressStyleModel",
          "model_module_version": "1.5.0",
          "state": {
            "_model_module": "@jupyter-widgets/controls",
            "_model_module_version": "1.5.0",
            "_model_name": "ProgressStyleModel",
            "_view_count": null,
            "_view_module": "@jupyter-widgets/base",
            "_view_module_version": "1.2.0",
            "_view_name": "StyleView",
            "bar_color": null,
            "description_width": ""
          }
        },
        "b717ecbed1204deb8e0df7a0d668ca0a": {
          "model_module": "@jupyter-widgets/base",
          "model_name": "LayoutModel",
          "model_module_version": "1.2.0",
          "state": {
            "_model_module": "@jupyter-widgets/base",
            "_model_module_version": "1.2.0",
            "_model_name": "LayoutModel",
            "_view_count": null,
            "_view_module": "@jupyter-widgets/base",
            "_view_module_version": "1.2.0",
            "_view_name": "LayoutView",
            "align_content": null,
            "align_items": null,
            "align_self": null,
            "border": null,
            "bottom": null,
            "display": null,
            "flex": null,
            "flex_flow": null,
            "grid_area": null,
            "grid_auto_columns": null,
            "grid_auto_flow": null,
            "grid_auto_rows": null,
            "grid_column": null,
            "grid_gap": null,
            "grid_row": null,
            "grid_template_areas": null,
            "grid_template_columns": null,
            "grid_template_rows": null,
            "height": null,
            "justify_content": null,
            "justify_items": null,
            "left": null,
            "margin": null,
            "max_height": null,
            "max_width": null,
            "min_height": null,
            "min_width": null,
            "object_fit": null,
            "object_position": null,
            "order": null,
            "overflow": null,
            "overflow_x": null,
            "overflow_y": null,
            "padding": null,
            "right": null,
            "top": null,
            "visibility": null,
            "width": null
          }
        },
        "57d27815f2b04b658f3a4f89681a104d": {
          "model_module": "@jupyter-widgets/controls",
          "model_name": "DescriptionStyleModel",
          "model_module_version": "1.5.0",
          "state": {
            "_model_module": "@jupyter-widgets/controls",
            "_model_module_version": "1.5.0",
            "_model_name": "DescriptionStyleModel",
            "_view_count": null,
            "_view_module": "@jupyter-widgets/base",
            "_view_module_version": "1.2.0",
            "_view_name": "StyleView",
            "description_width": ""
          }
        },
        "8b6cfeaf019c4ad8bb065709254fca45": {
          "model_module": "@jupyter-widgets/controls",
          "model_name": "HBoxModel",
          "model_module_version": "1.5.0",
          "state": {
            "_dom_classes": [],
            "_model_module": "@jupyter-widgets/controls",
            "_model_module_version": "1.5.0",
            "_model_name": "HBoxModel",
            "_view_count": null,
            "_view_module": "@jupyter-widgets/controls",
            "_view_module_version": "1.5.0",
            "_view_name": "HBoxView",
            "box_style": "",
            "children": [
              "IPY_MODEL_0c6c92d8c3164c68aadf5afa1e362d5d",
              "IPY_MODEL_1c49e675e22d44f883f3fe73158ee06e",
              "IPY_MODEL_796c5b96a1c64e599148c23b445c1824"
            ],
            "layout": "IPY_MODEL_18747a3fd44e448884406e8ffe4b4fa6"
          }
        },
        "0c6c92d8c3164c68aadf5afa1e362d5d": {
          "model_module": "@jupyter-widgets/controls",
          "model_name": "HTMLModel",
          "model_module_version": "1.5.0",
          "state": {
            "_dom_classes": [],
            "_model_module": "@jupyter-widgets/controls",
            "_model_module_version": "1.5.0",
            "_model_name": "HTMLModel",
            "_view_count": null,
            "_view_module": "@jupyter-widgets/controls",
            "_view_module_version": "1.5.0",
            "_view_name": "HTMLView",
            "description": "",
            "description_tooltip": null,
            "layout": "IPY_MODEL_6451b0bef4574ee59724bb2a845bee8e",
            "placeholder": "​",
            "style": "IPY_MODEL_7a41dc94c4794a5a9e540db2d87f2b72",
            "value": "generation_config.json: 100%"
          }
        },
        "1c49e675e22d44f883f3fe73158ee06e": {
          "model_module": "@jupyter-widgets/controls",
          "model_name": "FloatProgressModel",
          "model_module_version": "1.5.0",
          "state": {
            "_dom_classes": [],
            "_model_module": "@jupyter-widgets/controls",
            "_model_module_version": "1.5.0",
            "_model_name": "FloatProgressModel",
            "_view_count": null,
            "_view_module": "@jupyter-widgets/controls",
            "_view_module_version": "1.5.0",
            "_view_name": "ProgressView",
            "bar_style": "success",
            "description": "",
            "description_tooltip": null,
            "layout": "IPY_MODEL_bebd7aeead394d45b79bdf6517ad2596",
            "max": 147,
            "min": 0,
            "orientation": "horizontal",
            "style": "IPY_MODEL_130f027ab3a649ae9d1777a1bede7445",
            "value": 147
          }
        },
        "796c5b96a1c64e599148c23b445c1824": {
          "model_module": "@jupyter-widgets/controls",
          "model_name": "HTMLModel",
          "model_module_version": "1.5.0",
          "state": {
            "_dom_classes": [],
            "_model_module": "@jupyter-widgets/controls",
            "_model_module_version": "1.5.0",
            "_model_name": "HTMLModel",
            "_view_count": null,
            "_view_module": "@jupyter-widgets/controls",
            "_view_module_version": "1.5.0",
            "_view_name": "HTMLView",
            "description": "",
            "description_tooltip": null,
            "layout": "IPY_MODEL_bcf3bcefcf5c4e1199761af8236355f2",
            "placeholder": "​",
            "style": "IPY_MODEL_358a27b045484c6c91f643c58073de9c",
            "value": " 147/147 [00:00&lt;00:00, 2.35kB/s]"
          }
        },
        "18747a3fd44e448884406e8ffe4b4fa6": {
          "model_module": "@jupyter-widgets/base",
          "model_name": "LayoutModel",
          "model_module_version": "1.2.0",
          "state": {
            "_model_module": "@jupyter-widgets/base",
            "_model_module_version": "1.2.0",
            "_model_name": "LayoutModel",
            "_view_count": null,
            "_view_module": "@jupyter-widgets/base",
            "_view_module_version": "1.2.0",
            "_view_name": "LayoutView",
            "align_content": null,
            "align_items": null,
            "align_self": null,
            "border": null,
            "bottom": null,
            "display": null,
            "flex": null,
            "flex_flow": null,
            "grid_area": null,
            "grid_auto_columns": null,
            "grid_auto_flow": null,
            "grid_auto_rows": null,
            "grid_column": null,
            "grid_gap": null,
            "grid_row": null,
            "grid_template_areas": null,
            "grid_template_columns": null,
            "grid_template_rows": null,
            "height": null,
            "justify_content": null,
            "justify_items": null,
            "left": null,
            "margin": null,
            "max_height": null,
            "max_width": null,
            "min_height": null,
            "min_width": null,
            "object_fit": null,
            "object_position": null,
            "order": null,
            "overflow": null,
            "overflow_x": null,
            "overflow_y": null,
            "padding": null,
            "right": null,
            "top": null,
            "visibility": null,
            "width": null
          }
        },
        "6451b0bef4574ee59724bb2a845bee8e": {
          "model_module": "@jupyter-widgets/base",
          "model_name": "LayoutModel",
          "model_module_version": "1.2.0",
          "state": {
            "_model_module": "@jupyter-widgets/base",
            "_model_module_version": "1.2.0",
            "_model_name": "LayoutModel",
            "_view_count": null,
            "_view_module": "@jupyter-widgets/base",
            "_view_module_version": "1.2.0",
            "_view_name": "LayoutView",
            "align_content": null,
            "align_items": null,
            "align_self": null,
            "border": null,
            "bottom": null,
            "display": null,
            "flex": null,
            "flex_flow": null,
            "grid_area": null,
            "grid_auto_columns": null,
            "grid_auto_flow": null,
            "grid_auto_rows": null,
            "grid_column": null,
            "grid_gap": null,
            "grid_row": null,
            "grid_template_areas": null,
            "grid_template_columns": null,
            "grid_template_rows": null,
            "height": null,
            "justify_content": null,
            "justify_items": null,
            "left": null,
            "margin": null,
            "max_height": null,
            "max_width": null,
            "min_height": null,
            "min_width": null,
            "object_fit": null,
            "object_position": null,
            "order": null,
            "overflow": null,
            "overflow_x": null,
            "overflow_y": null,
            "padding": null,
            "right": null,
            "top": null,
            "visibility": null,
            "width": null
          }
        },
        "7a41dc94c4794a5a9e540db2d87f2b72": {
          "model_module": "@jupyter-widgets/controls",
          "model_name": "DescriptionStyleModel",
          "model_module_version": "1.5.0",
          "state": {
            "_model_module": "@jupyter-widgets/controls",
            "_model_module_version": "1.5.0",
            "_model_name": "DescriptionStyleModel",
            "_view_count": null,
            "_view_module": "@jupyter-widgets/base",
            "_view_module_version": "1.2.0",
            "_view_name": "StyleView",
            "description_width": ""
          }
        },
        "bebd7aeead394d45b79bdf6517ad2596": {
          "model_module": "@jupyter-widgets/base",
          "model_name": "LayoutModel",
          "model_module_version": "1.2.0",
          "state": {
            "_model_module": "@jupyter-widgets/base",
            "_model_module_version": "1.2.0",
            "_model_name": "LayoutModel",
            "_view_count": null,
            "_view_module": "@jupyter-widgets/base",
            "_view_module_version": "1.2.0",
            "_view_name": "LayoutView",
            "align_content": null,
            "align_items": null,
            "align_self": null,
            "border": null,
            "bottom": null,
            "display": null,
            "flex": null,
            "flex_flow": null,
            "grid_area": null,
            "grid_auto_columns": null,
            "grid_auto_flow": null,
            "grid_auto_rows": null,
            "grid_column": null,
            "grid_gap": null,
            "grid_row": null,
            "grid_template_areas": null,
            "grid_template_columns": null,
            "grid_template_rows": null,
            "height": null,
            "justify_content": null,
            "justify_items": null,
            "left": null,
            "margin": null,
            "max_height": null,
            "max_width": null,
            "min_height": null,
            "min_width": null,
            "object_fit": null,
            "object_position": null,
            "order": null,
            "overflow": null,
            "overflow_x": null,
            "overflow_y": null,
            "padding": null,
            "right": null,
            "top": null,
            "visibility": null,
            "width": null
          }
        },
        "130f027ab3a649ae9d1777a1bede7445": {
          "model_module": "@jupyter-widgets/controls",
          "model_name": "ProgressStyleModel",
          "model_module_version": "1.5.0",
          "state": {
            "_model_module": "@jupyter-widgets/controls",
            "_model_module_version": "1.5.0",
            "_model_name": "ProgressStyleModel",
            "_view_count": null,
            "_view_module": "@jupyter-widgets/base",
            "_view_module_version": "1.2.0",
            "_view_name": "StyleView",
            "bar_color": null,
            "description_width": ""
          }
        },
        "bcf3bcefcf5c4e1199761af8236355f2": {
          "model_module": "@jupyter-widgets/base",
          "model_name": "LayoutModel",
          "model_module_version": "1.2.0",
          "state": {
            "_model_module": "@jupyter-widgets/base",
            "_model_module_version": "1.2.0",
            "_model_name": "LayoutModel",
            "_view_count": null,
            "_view_module": "@jupyter-widgets/base",
            "_view_module_version": "1.2.0",
            "_view_name": "LayoutView",
            "align_content": null,
            "align_items": null,
            "align_self": null,
            "border": null,
            "bottom": null,
            "display": null,
            "flex": null,
            "flex_flow": null,
            "grid_area": null,
            "grid_auto_columns": null,
            "grid_auto_flow": null,
            "grid_auto_rows": null,
            "grid_column": null,
            "grid_gap": null,
            "grid_row": null,
            "grid_template_areas": null,
            "grid_template_columns": null,
            "grid_template_rows": null,
            "height": null,
            "justify_content": null,
            "justify_items": null,
            "left": null,
            "margin": null,
            "max_height": null,
            "max_width": null,
            "min_height": null,
            "min_width": null,
            "object_fit": null,
            "object_position": null,
            "order": null,
            "overflow": null,
            "overflow_x": null,
            "overflow_y": null,
            "padding": null,
            "right": null,
            "top": null,
            "visibility": null,
            "width": null
          }
        },
        "358a27b045484c6c91f643c58073de9c": {
          "model_module": "@jupyter-widgets/controls",
          "model_name": "DescriptionStyleModel",
          "model_module_version": "1.5.0",
          "state": {
            "_model_module": "@jupyter-widgets/controls",
            "_model_module_version": "1.5.0",
            "_model_name": "DescriptionStyleModel",
            "_view_count": null,
            "_view_module": "@jupyter-widgets/base",
            "_view_module_version": "1.2.0",
            "_view_name": "StyleView",
            "description_width": ""
          }
        }
      }
    }
  },
  "cells": [
    {
      "cell_type": "markdown",
      "source": [
        "**Trabalho unidade III - Large language models (LLMs) - TF**  \n",
        " Tópicos especiais em engenharia de software."
      ],
      "metadata": {
        "id": "N5TXZKspPGxg"
      }
    },
    {
      "cell_type": "markdown",
      "source": [
        "Este arquivo tem o objetivo de realizar uma exploração prática do modelo de lingaguem T5.\n",
        "\n",
        "\n",
        "1.   Um dos primeiros passo é utilizar o modelo T5 através da biblioteca transformers da [Hugging Face](https://huggingface.co/). Ponto inicial, começar instalando a biblioteca com:\n",
        "\n"
      ],
      "metadata": {
        "id": "-JY4jx01O_sF"
      }
    },
    {
      "cell_type": "code",
      "execution_count": null,
      "metadata": {
        "colab": {
          "base_uri": "https://localhost:8080/"
        },
        "id": "PwUNLmonO1i5",
        "outputId": "5f373a01-9f40-4799-ad4b-2dc3557f5883"
      },
      "outputs": [
        {
          "output_type": "stream",
          "name": "stdout",
          "text": [
            "Requirement already satisfied: transformers in /usr/local/lib/python3.10/dist-packages (4.44.2)\n",
            "Requirement already satisfied: filelock in /usr/local/lib/python3.10/dist-packages (from transformers) (3.16.1)\n",
            "Requirement already satisfied: huggingface-hub<1.0,>=0.23.2 in /usr/local/lib/python3.10/dist-packages (from transformers) (0.24.7)\n",
            "Requirement already satisfied: numpy>=1.17 in /usr/local/lib/python3.10/dist-packages (from transformers) (1.26.4)\n",
            "Requirement already satisfied: packaging>=20.0 in /usr/local/lib/python3.10/dist-packages (from transformers) (24.1)\n",
            "Requirement already satisfied: pyyaml>=5.1 in /usr/local/lib/python3.10/dist-packages (from transformers) (6.0.2)\n",
            "Requirement already satisfied: regex!=2019.12.17 in /usr/local/lib/python3.10/dist-packages (from transformers) (2024.9.11)\n",
            "Requirement already satisfied: requests in /usr/local/lib/python3.10/dist-packages (from transformers) (2.32.3)\n",
            "Requirement already satisfied: safetensors>=0.4.1 in /usr/local/lib/python3.10/dist-packages (from transformers) (0.4.5)\n",
            "Requirement already satisfied: tokenizers<0.20,>=0.19 in /usr/local/lib/python3.10/dist-packages (from transformers) (0.19.1)\n",
            "Requirement already satisfied: tqdm>=4.27 in /usr/local/lib/python3.10/dist-packages (from transformers) (4.66.5)\n",
            "Requirement already satisfied: fsspec>=2023.5.0 in /usr/local/lib/python3.10/dist-packages (from huggingface-hub<1.0,>=0.23.2->transformers) (2024.6.1)\n",
            "Requirement already satisfied: typing-extensions>=3.7.4.3 in /usr/local/lib/python3.10/dist-packages (from huggingface-hub<1.0,>=0.23.2->transformers) (4.12.2)\n",
            "Requirement already satisfied: charset-normalizer<4,>=2 in /usr/local/lib/python3.10/dist-packages (from requests->transformers) (3.4.0)\n",
            "Requirement already satisfied: idna<4,>=2.5 in /usr/local/lib/python3.10/dist-packages (from requests->transformers) (3.10)\n",
            "Requirement already satisfied: urllib3<3,>=1.21.1 in /usr/local/lib/python3.10/dist-packages (from requests->transformers) (2.2.3)\n",
            "Requirement already satisfied: certifi>=2017.4.17 in /usr/local/lib/python3.10/dist-packages (from requests->transformers) (2024.8.30)\n"
          ]
        }
      ],
      "source": [
        "pip install transformers"
      ]
    },
    {
      "cell_type": "markdown",
      "source": [
        "2.   Agora é possível carregar um modelo pré-treinado, para este exemplo inicial o [T5-base](https://huggingface.co/google-t5/t5-base) pode ser usado."
      ],
      "metadata": {
        "id": "KTNCgoVCRnTO"
      }
    },
    {
      "cell_type": "code",
      "source": [
        "from transformers import T5Tokenizer, T5ForConditionalGeneration\n",
        "\n",
        "# Carregando o tokenizer e o modelo\n",
        "tokenizer = T5Tokenizer.from_pretrained('t5-base')\n",
        "model = T5ForConditionalGeneration.from_pretrained('t5-base')\n"
      ],
      "metadata": {
        "colab": {
          "base_uri": "https://localhost:8080/",
          "height": 361,
          "referenced_widgets": [
            "a6324a8a2c644389a4d9912976d9ef82",
            "963b90da4bfe4c7b8d4df9a46cc372d6",
            "2bcd4902c2de4778b49e8b30dc724cb6",
            "f134b4d3fb734074b95a643d22ad3e61",
            "f6fb932da2aa477e9d556240bc7e97aa",
            "b67ab89dbcc241de881223270bdaddf3",
            "ec4fbb22298b41adad6878b20d9cf28b",
            "76fe193789284ba99fa3ccc5a14691f4",
            "906cb3abaa8644e0a813b12160dd75fd",
            "9573a927a9d4428cb0c0e478fc9c0672",
            "bf7fba225b5044ebb992e37f6bc24da7",
            "83fae06a710d42278ec243ae0ae7d0cb",
            "6d18857af66c4a9db263a1fee4c42313",
            "9ff41b3c805345cab7b89ee12ffb68b0",
            "df115119883941e09918bca87bba045c",
            "9cffd98dfa77453990af4eda133c642c",
            "d639db9ee6f84e67944b1a06766c4cd8",
            "76e8cfbeb9b0478687c52dcca5e999f8",
            "f7ad00ac336e4a07b3558581ba5754e0",
            "8a701af9bb3e43068316f2b9c16edd0e",
            "71c6d2c457d04fe29e95135025980fb5",
            "51d684ec04bc4eafb98611a67fad7e30",
            "dc97b4700edb4495bfdc57132925230b",
            "b92e3473125340d0bf4d7e75e2c72e99",
            "0ac5b8fa8a4b4effb69f898d24b4146a",
            "bbab0f994c9641d2ab4c1e56f237b0d2",
            "418ead16478d4e2cb58421d78124b510",
            "2606a2cdfaf14d4eb2dc43962f914277",
            "ee0fd7c391fc41f8b7d67d8808ca8846",
            "39886ec7470e4dc2aabc4b90758d151d",
            "aa0c6e5bee1f4c2187c744a914995a54",
            "d4a13f78635f40bab5dbdc10cfa21abd",
            "7c12bad796be4e0da3a71f6178a8de3f",
            "30bc67314ccf4ebcaddeed292556cf04",
            "4248d80c0669444c8a1e9636858e52ff",
            "13db0fc32def447f98feca0976ec2fcb",
            "3f61149732d14d9781cdb1a25df8cb43",
            "650f30fa3c434b9b94113c78e34e58f6",
            "f18dd1640f9d49ce8a85ba430fa29090",
            "bf11b4c49bae4f398fb48a8b4ffecf19",
            "ba5171bcef7240e38b42ca121119d35d",
            "bdabb420026942fa95d807880093fd2e",
            "b717ecbed1204deb8e0df7a0d668ca0a",
            "57d27815f2b04b658f3a4f89681a104d",
            "8b6cfeaf019c4ad8bb065709254fca45",
            "0c6c92d8c3164c68aadf5afa1e362d5d",
            "1c49e675e22d44f883f3fe73158ee06e",
            "796c5b96a1c64e599148c23b445c1824",
            "18747a3fd44e448884406e8ffe4b4fa6",
            "6451b0bef4574ee59724bb2a845bee8e",
            "7a41dc94c4794a5a9e540db2d87f2b72",
            "bebd7aeead394d45b79bdf6517ad2596",
            "130f027ab3a649ae9d1777a1bede7445",
            "bcf3bcefcf5c4e1199761af8236355f2",
            "358a27b045484c6c91f643c58073de9c"
          ]
        },
        "id": "fsobRTfFSYrS",
        "outputId": "bddc96ca-6d1e-4923-d00d-a71d17fd6616"
      },
      "execution_count": null,
      "outputs": [
        {
          "output_type": "stream",
          "name": "stderr",
          "text": [
            "/usr/local/lib/python3.10/dist-packages/huggingface_hub/utils/_token.py:89: UserWarning: \n",
            "The secret `HF_TOKEN` does not exist in your Colab secrets.\n",
            "To authenticate with the Hugging Face Hub, create a token in your settings tab (https://huggingface.co/settings/tokens), set it as secret in your Google Colab and restart your session.\n",
            "You will be able to reuse this secret in all of your notebooks.\n",
            "Please note that authentication is recommended but still optional to access public models or datasets.\n",
            "  warnings.warn(\n"
          ]
        },
        {
          "output_type": "display_data",
          "data": {
            "text/plain": [
              "spiece.model:   0%|          | 0.00/792k [00:00<?, ?B/s]"
            ],
            "application/vnd.jupyter.widget-view+json": {
              "version_major": 2,
              "version_minor": 0,
              "model_id": "a6324a8a2c644389a4d9912976d9ef82"
            }
          },
          "metadata": {}
        },
        {
          "output_type": "display_data",
          "data": {
            "text/plain": [
              "tokenizer.json:   0%|          | 0.00/1.39M [00:00<?, ?B/s]"
            ],
            "application/vnd.jupyter.widget-view+json": {
              "version_major": 2,
              "version_minor": 0,
              "model_id": "83fae06a710d42278ec243ae0ae7d0cb"
            }
          },
          "metadata": {}
        },
        {
          "output_type": "display_data",
          "data": {
            "text/plain": [
              "config.json:   0%|          | 0.00/1.21k [00:00<?, ?B/s]"
            ],
            "application/vnd.jupyter.widget-view+json": {
              "version_major": 2,
              "version_minor": 0,
              "model_id": "dc97b4700edb4495bfdc57132925230b"
            }
          },
          "metadata": {}
        },
        {
          "output_type": "stream",
          "name": "stderr",
          "text": [
            "You are using the default legacy behaviour of the <class 'transformers.models.t5.tokenization_t5.T5Tokenizer'>. This is expected, and simply means that the `legacy` (previous) behavior will be used so nothing changes for you. If you want to use the new behaviour, set `legacy=False`. This should only be set if you understand what it means, and thoroughly read the reason why this was added as explained in https://github.com/huggingface/transformers/pull/24565\n",
            "/usr/local/lib/python3.10/dist-packages/transformers/tokenization_utils_base.py:1601: FutureWarning: `clean_up_tokenization_spaces` was not set. It will be set to `True` by default. This behavior will be depracted in transformers v4.45, and will be then set to `False` by default. For more details check this issue: https://github.com/huggingface/transformers/issues/31884\n",
            "  warnings.warn(\n"
          ]
        },
        {
          "output_type": "display_data",
          "data": {
            "text/plain": [
              "model.safetensors:   0%|          | 0.00/892M [00:00<?, ?B/s]"
            ],
            "application/vnd.jupyter.widget-view+json": {
              "version_major": 2,
              "version_minor": 0,
              "model_id": "30bc67314ccf4ebcaddeed292556cf04"
            }
          },
          "metadata": {}
        },
        {
          "output_type": "display_data",
          "data": {
            "text/plain": [
              "generation_config.json:   0%|          | 0.00/147 [00:00<?, ?B/s]"
            ],
            "application/vnd.jupyter.widget-view+json": {
              "version_major": 2,
              "version_minor": 0,
              "model_id": "8b6cfeaf019c4ad8bb065709254fca45"
            }
          },
          "metadata": {}
        }
      ]
    },
    {
      "cell_type": "markdown",
      "source": [
        "3.   O T5 é um modelo chamado de \"text-to-text\", então é possível realizar tarefas de NLP como: tradução, resumo, resposta a perguntas e sumarização. O exemplo para tradução pode ser visto abaixo:"
      ],
      "metadata": {
        "id": "4VFWT7ikTbX3"
      }
    },
    {
      "cell_type": "code",
      "source": [
        "# Definindo um texto para tradução como entrda\n",
        "input_text = \"translate English to French: I want to have coffee with you.\"\n",
        "\n",
        "# Tokenize o texto de entrada\n",
        "input_ids = tokenizer.encode(input_text, return_tensors='pt')\n",
        "\n",
        "# Gera o texto\n",
        "outputs = model.generate(input_ids, max_length=40, num_beams=4, early_stopping=True)\n",
        "\n",
        "# Decodifique a saída gerada\n",
        "generated_text = tokenizer.decode(outputs[0], skip_special_tokens=True)\n",
        "\n",
        "print(\"  saida obtida: \", generated_text)\n",
        "print(\"saída esperada: Je veux avoir un café avec vous.\")"
      ],
      "metadata": {
        "colab": {
          "base_uri": "https://localhost:8080/"
        },
        "id": "QuYZE1U5Uio7",
        "outputId": "7ae6451e-1b7a-467b-9e79-67c9417d5df7"
      },
      "execution_count": null,
      "outputs": [
        {
          "output_type": "stream",
          "name": "stdout",
          "text": [
            "  saida obtida: Je veux avoir un café avec vous.\n",
            "saída esperada: Je veux avoir un café avec vous.\n"
          ]
        }
      ]
    },
    {
      "cell_type": "markdown",
      "source": [
        "Mais um exemplo de tradução:"
      ],
      "metadata": {
        "id": "C7-IbTpkWOow"
      }
    },
    {
      "cell_type": "code",
      "source": [
        "input_text = \"translate English to French: How are you?\"\n",
        "\n",
        "input_ids = tokenizer.encode(input_text, return_tensors='pt')\n",
        "\n",
        "outputs = model.generate(input_ids, max_length=40, num_beams=4, early_stopping=True)\n",
        "\n",
        "generated_text = tokenizer.decode(outputs[0], skip_special_tokens=True)\n",
        "\n",
        "print(\"  saida obtida: \", generated_text)\n",
        "print(\"saída esperada: Comment êtes-vous?\")"
      ],
      "metadata": {
        "colab": {
          "base_uri": "https://localhost:8080/"
        },
        "id": "O6sJwKptWRlt",
        "outputId": "388ad3dc-a828-4dee-c432-a47b4a38f45e"
      },
      "execution_count": null,
      "outputs": [
        {
          "output_type": "stream",
          "name": "stdout",
          "text": [
            "  saida obtida:  Comment êtes-vous?\n",
            "saída esperada: Comment êtes-vous?\n"
          ]
        }
      ]
    },
    {
      "cell_type": "markdown",
      "source": [
        "Também há possibilidades de tradução para outras línguas, para traduzir do **inglês** para o **alemão**, pode-se usar o T5-small:"
      ],
      "metadata": {
        "id": "Op-lwS4Dmv8Z"
      }
    },
    {
      "cell_type": "code",
      "source": [
        "# Carregar o tokenizer e o modelo T5-small\n",
        "tokenizer = T5Tokenizer.from_pretrained(\"t5-small\")\n",
        "model = T5ForConditionalGeneration.from_pretrained(\"t5-small\")\n",
        "\n",
        "input_text = \"translate English to German: The house is wonderful.\"\n",
        "\n",
        "input_ids = tokenizer.encode(input_text, return_tensors=\"pt\")\n",
        "\n",
        "outputs = model.generate(input_ids, max_length=40, num_beams=4, early_stopping=True)\n",
        "\n",
        "generated_text = tokenizer.decode(outputs[0], skip_special_tokens=True)\n",
        "\n",
        "print(\"  saída obtida  :\", generated_text)\n",
        "print(\"saída esperada  : Das Haus ist wunderbar.\")"
      ],
      "metadata": {
        "colab": {
          "base_uri": "https://localhost:8080/"
        },
        "id": "QVU-J2mZmj61",
        "outputId": "d239a021-33fe-40f8-b49f-d2950c21f70f"
      },
      "execution_count": null,
      "outputs": [
        {
          "output_type": "stream",
          "name": "stdout",
          "text": [
            "  saída obtida  : Das Haus ist wunderbar.\n",
            "saída esperada  : Das Haus ist wunderbar.\n"
          ]
        }
      ]
    },
    {
      "cell_type": "markdown",
      "source": [
        "4.  Como mencionado, o T5 também pode ser usado para resumo de textos, veja um exemplo deste tipo de uso a seguir:"
      ],
      "metadata": {
        "id": "Q-PwP8pSZnLx"
      }
    },
    {
      "cell_type": "code",
      "source": [
        "#tradução do input_text -> A rápida raposa marrom salta sobre o cão preguiçoso.\n",
        "input_text = \"summarize: The quick brown fox jumps over the lazy dog.\"\n",
        "\n",
        "input_ids = tokenizer.encode(input_text, return_tensors='pt')\n",
        "outputs = model.generate(input_ids, max_length=20, num_beams=4, early_stopping=True)\n",
        "\n",
        "generated_text = tokenizer.decode(outputs[0], skip_special_tokens=True)\n",
        "print(\"      saida obtida: \" + generated_text)\n",
        "print(\"saída esperada (1): quick brown fox jumps over lazy dog.\")\n",
        "print(\"saída esperada (2): The fox jumps over the dog.\")"
      ],
      "metadata": {
        "colab": {
          "base_uri": "https://localhost:8080/"
        },
        "id": "5oLjp6hUZ96G",
        "outputId": "0ea8e5f0-a86d-43c6-8398-edd14980aa72"
      },
      "execution_count": null,
      "outputs": [
        {
          "output_type": "stream",
          "name": "stdout",
          "text": [
            "      saida obtida: quick brown fox jumps over lazy dog.\n",
            "saída esperada (1): quick brown fox jumps over lazy dog.\n",
            "saída esperada (2): The fox jumps over the dog.\n"
          ]
        }
      ]
    },
    {
      "cell_type": "markdown",
      "source": [
        "Outro exemplo de resumo usando o T5:"
      ],
      "metadata": {
        "id": "poGGhpi3culo"
      }
    },
    {
      "cell_type": "code",
      "source": [
        "#tradução do input_text -> O sol nasce no leste e se põe no oeste, marcando a passagem do tempo.\n",
        "input_text = \"summarize: The sun rises in the east and sets in the west, marking the passage of time.\"\n",
        "\n",
        "input_ids = tokenizer.encode(input_text, return_tensors='pt')\n",
        "outputs = model.generate(input_ids, max_length=13, num_beams=4, early_stopping=True)\n",
        "\n",
        "generated_text = tokenizer.decode(outputs[0], skip_special_tokens=True)\n",
        "print(\"      saida obtida: \", generated_text)\n",
        "print(\"saída esperada (1): The sun rises in the east and sets in the west.\")\n",
        "print(\"saída esperada (2): The sun rises marking the passage of time.\")"
      ],
      "metadata": {
        "colab": {
          "base_uri": "https://localhost:8080/"
        },
        "id": "bigTnpRyb5YF",
        "outputId": "1371852e-3db4-40af-8d61-62609cd6a91c"
      },
      "execution_count": null,
      "outputs": [
        {
          "output_type": "stream",
          "name": "stdout",
          "text": [
            "      saida obtida:  the sun rises in the east and sets in the west\n",
            "saída esperada (1): The sun rises in the east and sets in the west.\n",
            "saída esperada (2): The sun rises marking the passage of time.\n"
          ]
        }
      ]
    },
    {
      "cell_type": "markdown",
      "source": [
        "5.  Algo que é possivel ser feito usando a função *generate*, é ajustar manualmente parâmetros de geração como: *temperature* e *top-k sampling*.\n",
        "\n",
        "Antes disso, uma breve descrição do que cada parâmetro siginifica:\n",
        "\n",
        "\n",
        "\n",
        "*   **Temperatura (temperature)**: Controla o nível de aleatoriedade na previsão. Basicamente, valores menores tornam a saída mais previsível, enquanto valores maiores tornam a saída mais variada. O valor padrão é 1.0.\n",
        "*   **Top-k Sampling (top_k)**: Restringe a escolha do próximo token aos K mais prováveis, promovendo maior diversidade ao evitar sempre o token mais provável. Um valor comum é top_k=50.\n",
        "*   **Top-p Sampling (top_p)**: Também chamado de nucleus sampling, seleciona tokens cuja soma de probabilidades seja menor que p, oferecendo mais controle sobre a diversidade. Pode ser usado com top-k para ajustar a variabilidade.\n",
        "\n",
        "\n",
        "Abaixo há um exmplo simples de tradução, porém, com os ajustes de parâmetros podemos observar mudanças nas saídas.\n",
        "\n"
      ],
      "metadata": {
        "id": "x3sY8A5seO7S"
      }
    },
    {
      "cell_type": "code",
      "source": [
        "input_text = \"translate English to French: How are you?\"\n",
        "\n",
        "# Tokenizar o texto de entrada\n",
        "input_ids = tokenizer.encode(input_text, return_tensors='pt')\n",
        "\n",
        "# Gerar texto com diferentes parâmetros\n",
        "outputs = model.generate(input_ids,\n",
        "                         max_length=40,\n",
        "                         temperature=0.7,   # Controle da aleatoriedade (menor que 1 é menos aleatório)\n",
        "                         top_k=50,          # Top-k sampling (considera os 50 tokens mais prováveis)\n",
        "                         top_p=0.9,         # Nucleus sampling (tokens cujas probabilidades somam 90%)\n",
        "                         do_sample=True,    # Ativação da amostragem\n",
        "                         num_return_sequences=3  # Gerar 3 saídas q\n",
        "                         )\n",
        "\n",
        "# Decodificar e imprimir as saídas geradas\n",
        "for i, output in enumerate(outputs):\n",
        "    generated_text = tokenizer.decode(output, skip_special_tokens=True)\n",
        "    print(f\"Saída {i+1}: {generated_text}\")"
      ],
      "metadata": {
        "colab": {
          "base_uri": "https://localhost:8080/"
        },
        "id": "Bhsyk29dgpEb",
        "outputId": "9b2f1c23-2a30-4382-d53c-fd33ffbd5c34"
      },
      "execution_count": null,
      "outputs": [
        {
          "output_type": "stream",
          "name": "stdout",
          "text": [
            "Saída 1: Comment êtes-vous?\n",
            "Saída 2: Quel est votre état de santé?\n",
            "Saída 3: Comment vous êtes-vous?\n"
          ]
        }
      ]
    },
    {
      "cell_type": "code",
      "source": [
        "input_text = \"translate English to French: How are you?\"\n",
        "\n",
        "input_ids = tokenizer.encode(input_text, return_tensors='pt')\n",
        "\n",
        "outputs = model.generate(input_ids,\n",
        "                         max_length=40,\n",
        "                         temperature=1.0, #Alterei de 0.7 para 1.0\n",
        "                         top_k=50,\n",
        "                         top_p=0.9,\n",
        "                         do_sample=True,\n",
        "                         num_return_sequences=3\n",
        "                         )\n",
        "\n",
        "for i, output in enumerate(outputs):\n",
        "    generated_text = tokenizer.decode(output, skip_special_tokens=True)\n",
        "    print(f\"Saída {i+1}: {generated_text}\")"
      ],
      "metadata": {
        "colab": {
          "base_uri": "https://localhost:8080/"
        },
        "id": "yE4yrLaQhm1P",
        "outputId": "bd8d3bf8-203a-4d0a-df2f-69549cbf81f8"
      },
      "execution_count": null,
      "outputs": [
        {
          "output_type": "stream",
          "name": "stdout",
          "text": [
            "Saída 1: Quel est votre sort?\n",
            "Saída 2: Comment êtes-vous?\n",
            "Saída 3: Comment vous êtes-vous?\n"
          ]
        }
      ]
    },
    {
      "cell_type": "code",
      "source": [
        "input_text = \"translate English to French: How are you?\"\n",
        "\n",
        "\n",
        "input_ids = tokenizer.encode(input_text, return_tensors='pt')\n",
        "\n",
        "outputs = model.generate(input_ids,\n",
        "                         max_length=40,\n",
        "                         temperature=0.1, #Alterei 1.0 para 0.1\n",
        "                         top_k=50,\n",
        "                         top_p=0.9,\n",
        "                         do_sample=True,\n",
        "                         num_return_sequences=3\n",
        "                         )\n",
        "\n",
        "for i, output in enumerate(outputs):\n",
        "    generated_text = tokenizer.decode(output, skip_special_tokens=True)\n",
        "    print(f\"Saída {i+1}: {generated_text}\")"
      ],
      "metadata": {
        "colab": {
          "base_uri": "https://localhost:8080/"
        },
        "id": "zw8gvCs6iCxq",
        "outputId": "198f57b7-eeaa-407e-c804-c1a49b4649c7"
      },
      "execution_count": null,
      "outputs": [
        {
          "output_type": "stream",
          "name": "stdout",
          "text": [
            "Saída 1: Comment vous êtes-vous?\n",
            "Saída 2: Comment vous êtes-vous?\n",
            "Saída 3: Comment vous êtes-vous?\n"
          ]
        }
      ]
    },
    {
      "cell_type": "markdown",
      "source": [
        "6.  Podemos também testar outros modelo pré-treinados, inclusive em outras lingas. Abaixo podemos ver um exemplo de um modelo em português que foi desenvolvido para perguntas e resposas (*QA*). Mais detalhes sobre o modelo está disponivel em"
      ],
      "metadata": {
        "id": "P2kMMTcOiw3l"
      }
    },
    {
      "cell_type": "code",
      "source": [
        "from transformers import AutoTokenizer, AutoModelForSeq2SeqLM\n",
        "\n",
        "# Nome do modelo e inicialização do tokenizer e do modelo\n",
        "model_name = \"pierreguillou/t5-base-qa-squad-v1.1-portuguese\"\n",
        "tokenizer = AutoTokenizer.from_pretrained(model_name)\n",
        "model = AutoModelForSeq2SeqLM.from_pretrained(model_name)\n",
        "\n",
        "# Texto de entrada (pergunta e contexto)\n",
        "input_text = (\n",
        "    \"question: Quando foi descoberta a Covid-19? \"\n",
        "    \"context: A pandemia de COVID-19, também conhecida como pandemia de coronavírus, \"\n",
        "    \"é uma pandemia em curso de COVID-19, uma doença respiratória aguda causada pelo coronavírus da \"\n",
        "    \"síndrome respiratória aguda grave 2 (SARS-CoV-2). A doença foi identificada pela primeira vez em \"\n",
        "    \"Wuhan, na província de Hubei, República Popular da China, em 1 de dezembro de 2019, mas o primeiro \"\n",
        "    \"caso foi reportado em 31 de dezembro do mesmo ano.\"\n",
        ")\n",
        "\n",
        "# Resposta esperada\n",
        "label = '1 de dezembro de 2019'\n",
        "\n",
        "# Tokenização do texto de entrada\n",
        "inputs = tokenizer(input_text, return_tensors=\"pt\")\n",
        "\n",
        "# Geração de respostas\n",
        "outputs = model.generate(\n",
        "    inputs[\"input_ids\"],\n",
        "    max_length=32,\n",
        "    num_beams=4,\n",
        "    early_stopping=True,\n",
        "    do_sample=True,  # Ativando amostragem para maior diversidade\n",
        ")\n",
        "\n",
        "# Decodificação da resposta gerada\n",
        "pred = tokenizer.decode(outputs[0], skip_special_tokens=True, clean_up_tokenization_spaces=True)\n",
        "\n",
        "# Impressão dos resultados\n",
        "print('saída esperada    :', label)\n",
        "print('saída obtida      :', pred)"
      ],
      "metadata": {
        "colab": {
          "base_uri": "https://localhost:8080/"
        },
        "id": "3DaGzt88jRv5",
        "outputId": "fd5583c2-27cf-4531-95e0-81e94459ad59"
      },
      "execution_count": null,
      "outputs": [
        {
          "output_type": "stream",
          "name": "stderr",
          "text": [
            "/usr/local/lib/python3.10/dist-packages/transformers/tokenization_utils_base.py:1601: FutureWarning: `clean_up_tokenization_spaces` was not set. It will be set to `True` by default. This behavior will be depracted in transformers v4.45, and will be then set to `False` by default. For more details check this issue: https://github.com/huggingface/transformers/issues/31884\n",
            "  warnings.warn(\n"
          ]
        },
        {
          "output_type": "stream",
          "name": "stdout",
          "text": [
            "saída esperada    : 1 de dezembro de 2019\n",
            "saída obtida      : 1 de dezembro de 2019\n"
          ]
        }
      ]
    },
    {
      "cell_type": "markdown",
      "source": [
        "Outro exemplo utilizando outro texto:"
      ],
      "metadata": {
        "id": "mAhb45jCk1RK"
      }
    },
    {
      "cell_type": "code",
      "source": [
        "from transformers import AutoTokenizer, AutoModelForSeq2SeqLM\n",
        "\n",
        "model_name = \"pierreguillou/t5-base-qa-squad-v1.1-portuguese\"\n",
        "tokenizer = AutoTokenizer.from_pretrained(model_name)\n",
        "model = AutoModelForSeq2SeqLM.from_pretrained(model_name)\n",
        "\n",
        "# Texto de entrada\n",
        "input_text = (\n",
        "    \"question: Quando o Brasil foi descoberto? \"\n",
        "    \"context: A chegada dos portugueses ao Brasil foi parte do processo das grandes navegações. \"\n",
        "    \"Pedro Álvares Cabral foi o líder de uma expedição composta por 13 embarcações e cerca de 1200 homens. \"\n",
        "    \"O primeiro ponto do Brasil avistado pelos portugueses foi a região do Monte Pascoal, na Bahia, no dia \"\n",
        "    \"22 de abril de 1500.\"\n",
        ")\n",
        "label = \"22 de abril de 1500.\"\n",
        "\n",
        "# Tokenização da entrada\n",
        "inputs = tokenizer(input_text, return_tensors=\"pt\")\n",
        "\n",
        "outputs = model.generate(\n",
        "    inputs[\"input_ids\"],\n",
        "    max_length=32,\n",
        "    num_beams=5,\n",
        "    early_stopping=True\n",
        ")\n",
        "\n",
        "pred = tokenizer.decode(outputs[0], skip_special_tokens=True, clean_up_tokenization_spaces=True)\n",
        "\n",
        "print('saída esperada    :', label)\n",
        "print('saída obtida      :', pred)"
      ],
      "metadata": {
        "colab": {
          "base_uri": "https://localhost:8080/"
        },
        "id": "jUUSUktAk48W",
        "outputId": "493f2806-5f56-4cc5-922a-492778284792"
      },
      "execution_count": null,
      "outputs": [
        {
          "output_type": "stream",
          "name": "stderr",
          "text": [
            "/usr/local/lib/python3.10/dist-packages/transformers/tokenization_utils_base.py:1601: FutureWarning: `clean_up_tokenization_spaces` was not set. It will be set to `True` by default. This behavior will be depracted in transformers v4.45, and will be then set to `False` by default. For more details check this issue: https://github.com/huggingface/transformers/issues/31884\n",
            "  warnings.warn(\n"
          ]
        },
        {
          "output_type": "stream",
          "name": "stdout",
          "text": [
            "saída esperada    : 22 de abril de 1500.\n",
            "saída obtida      : 22 de abril de 1500\n"
          ]
        }
      ]
    },
    {
      "cell_type": "markdown",
      "source": [
        "7.  Por fim, podemos utilizar o T5 para geração de textos, abaixo está um exemplo simples de como o T5 lida esse tipo de função."
      ],
      "metadata": {
        "id": "sDToB7g_lz6Q"
      }
    },
    {
      "cell_type": "code",
      "source": [
        "model_name = \"t5-base\"\n",
        "tokenizer = T5Tokenizer.from_pretrained(model_name)\n",
        "model = T5ForConditionalGeneration.from_pretrained(model_name)\n",
        "\n",
        "# Texto de entrada (prompt)\n",
        "input_text = \"My house is a beautiful home and\"\n",
        "\n",
        "# Tokenizar o texto de entrada\n",
        "input_ids = tokenizer.encode(input_text, return_tensors='pt')\n",
        "\n",
        "# Gerar texto\n",
        "outputs = model.generate(input_ids, max_length=100)  # Geração básica\n",
        "\n",
        "# Decodificar e imprimir a saída\n",
        "generated_text = tokenizer.decode(outputs[0], skip_special_tokens=True)\n",
        "print(\"Saída gerada:\", generated_text)\n"
      ],
      "metadata": {
        "colab": {
          "base_uri": "https://localhost:8080/"
        },
        "id": "c1BjdroFmGIU",
        "outputId": "69bc6355-ff7f-4ae2-cb84-8d5910459f9c"
      },
      "execution_count": null,
      "outputs": [
        {
          "output_type": "stream",
          "name": "stdout",
          "text": [
            "Saída gerada: and I love it. and I love it. My house is a beautiful home and I love it. My house is a beautiful home and I love it.\n"
          ]
        }
      ]
    },
    {
      "cell_type": "markdown",
      "source": [
        "Não parece que o modelo lida bem com esse tipo de função, podemos agora ajustar parâmetros e ver como o comportamento."
      ],
      "metadata": {
        "id": "2hdClqMsoq9D"
      }
    },
    {
      "cell_type": "code",
      "source": [
        "model_name = \"t5-base\"\n",
        "tokenizer = T5Tokenizer.from_pretrained(model_name)\n",
        "model = T5ForConditionalGeneration.from_pretrained(model_name)\n",
        "\n",
        "input_text = \"My house is a beautiful home end\"\n",
        "\n",
        "input_ids = tokenizer.encode(input_text, return_tensors='pt')\n",
        "\n",
        "outputs_basic = model.generate(input_ids, max_length=30)\n",
        "generated_text_basic = tokenizer.decode(outputs_basic[0], skip_special_tokens=True)\n",
        "print(\"Saída gerada (básica):\", generated_text_basic)\n",
        "\n",
        "# Geração com parâmetros ajustados\n",
        "outputs_adjusted = model.generate(\n",
        "    input_ids,\n",
        "    max_length=70,         # Tamanho máximo da saída\n",
        "    num_beams=4,            # Usar beam search\n",
        "    do_sample=True,         # Ativar amostragem\n",
        "    temperature=1.0,        # Controle de aleatoriedade\n",
        "    top_k=50,               # Considerar os 50 tokens mais prováveis\n",
        "    top_p=0.9,              # Nucleus sampling\n",
        "    num_return_sequences=3   # Gerar 3 saídas\n",
        ")\n",
        "\n",
        "# Decodificar e imprimir as saídas geradas\n",
        "for i, output in enumerate(outputs_adjusted):\n",
        "    generated_text_adjusted = tokenizer.decode(output, skip_special_tokens=True)\n",
        "    print(f\"Saída {i+1} (ajustada):\", generated_text_adjusted)\n"
      ],
      "metadata": {
        "colab": {
          "base_uri": "https://localhost:8080/"
        },
        "id": "xx-sI2lapGQR",
        "outputId": "c156e033-f289-40b9-8103-fcb85d3458ab"
      },
      "execution_count": null,
      "outputs": [
        {
          "output_type": "stream",
          "name": "stderr",
          "text": [
            "/usr/local/lib/python3.10/dist-packages/transformers/tokenization_utils_base.py:1601: FutureWarning: `clean_up_tokenization_spaces` was not set. It will be set to `True` by default. This behavior will be depracted in transformers v4.45, and will be then set to `False` by default. For more details check this issue: https://github.com/huggingface/transformers/issues/31884\n",
            "  warnings.warn(\n"
          ]
        },
        {
          "output_type": "stream",
          "name": "stdout",
          "text": [
            "Saída gerada (básica): is a beautiful home end end end home end end home end home end home end home end home end home end home end home end home\n",
            "Saída 1 (ajustada): is a beautiful home end home end home end home end home end home end home end home end home end home end home end home end home end home end home end home end home end home end home end home end home end home end home end home end home end home end home end home end home end home end home end home end\n",
            "Saída 2 (ajustada): is a beautiful home end end home end home end home end home end home end home end home end home end home end home end home end home end home end home end home end home end home end home end home end home end home end home end home end home end home end home end home end home end home end home end home\n",
            "Saída 3 (ajustada): is a beautiful home end is a beautiful home end home end home end home end home end home end home end home end home end home end home end home end home end home end home end home end home end home end home end home end home end home end home end home end home end home end home end home end home\n"
          ]
        }
      ]
    },
    {
      "cell_type": "markdown",
      "source": [
        "Mais um exemplo reajustando os parametros:"
      ],
      "metadata": {
        "id": "c-Ckjnf5rm-h"
      }
    },
    {
      "cell_type": "code",
      "source": [
        "model_name = \"t5-base\"\n",
        "tokenizer = T5Tokenizer.from_pretrained(model_name)\n",
        "model = T5ForConditionalGeneration.from_pretrained(model_name)\n",
        "\n",
        "input_text = \"I live in a house near the industrial zone, the industrial zone is\"\n",
        "\n",
        "input_ids = tokenizer.encode(input_text, return_tensors='pt')\n",
        "\n",
        "outputs_basic = model.generate(input_ids, max_length=40) # alterei de 30 para 40\n",
        "generated_text_basic = tokenizer.decode(outputs_basic[0], skip_special_tokens=True)\n",
        "print(\"Saída gerada (básica):\", generated_text_basic)\n",
        "\n",
        "# Geração com parâmetros ajustados\n",
        "outputs_adjusted = model.generate(\n",
        "    input_ids,\n",
        "    max_length=90,          # Tamanho máximo da saída, alterei de 70 para 90\n",
        "    num_beams=5,            # Usar beam search, alterei de 4 para 5\n",
        "    do_sample=True,         # Ativar amostragem\n",
        "    temperature=1.3,        # Controle de aleatoriedade, alterei de 1.0 para 1.3\n",
        "    top_k=50,               # Considerar os 50 tokens mais prováveis\n",
        "    top_p=0.9,              # Nucleus sampling\n",
        "    num_return_sequences=3   # Gerar 3 saídas\n",
        ")\n",
        "\n",
        "# Decodificar e imprimir as saídas geradas\n",
        "for i, output in enumerate(outputs_adjusted):\n",
        "    generated_text_adjusted = tokenizer.decode(output, skip_special_tokens=True)\n",
        "    print(f\"Saída {i+1} (ajustada):\", generated_text_adjusted)"
      ],
      "metadata": {
        "colab": {
          "base_uri": "https://localhost:8080/"
        },
        "id": "Jw_YEXIdrpSq",
        "outputId": "99525253-3188-4340-f796-8f9aab6845ca"
      },
      "execution_count": null,
      "outputs": [
        {
          "output_type": "stream",
          "name": "stdout",
          "text": [
            "Saída gerada (básica): a house near the industrial zone, the industrial zone is very close to the industrial zone. I live in a house near the industrial zone, the industrial zone is very close to the\n",
            "Saída 1 (ajustada): a house near the industrial zone, I live in a house near the industrial zone. I live in a house in a house near the industrial zone, the industrial zone is in a residential area. I live in a house near the industrial zone, the industrial zone is in a residential zone, the industrial zone is in a residential zone, the industrial zone is in a residential zone, the industrial zone\n",
            "Saída 2 (ajustada): a house near the industrial zone, I live in a house near the industrial zone. I live in a house in a house near the industrial zone, the industrial zone is in a residential area. I live in a house in a house near the industrial zone, the industrial zone is in a residential zone, the industrial zone is in a residential zone, the industrial zone is in a residential zone\n",
            "Saída 3 (ajustada): a house near the industrial zone, I live in a house near the industrial zone. I live in a house in a house near the industrial zone, the industrial zone is in a industrial zone. I live in a house near the industrial zone, the industrial zone is in an industrial zone, the industrial zone is in an industrial zone, the industrial zone is in an industrial zone, the industrial zone is in an\n"
          ]
        }
      ]
    }
  ]
}